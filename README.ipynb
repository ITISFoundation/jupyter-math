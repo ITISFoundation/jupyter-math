{
 "cells": [
  {
   "cell_type": "markdown",
   "id": "67bb6fe5-38a1-472e-bf7c-9a300da42cb7",
   "metadata": {},
   "source": [
    "# Before starting\n",
    "\n",
    "#### Directories and usage:\n",
    "\n",
    "* `~/work/inputs` (equivalent to `/home/jovyan/work/inputs`) contains inputs incoming from the outputs of the previous node. The contents of this folder will update when the outputs of the upstream. Even if you can write files in this folder, they will not be stored between reboots.\n",
    "* `~/work/outputs` the contents of `outputs_1`, `outputs_2`, `outputs_3` and `outputs_4` will be uploaded to the platform and service output ports. These will then be accessible to connected downstream nodes. *Warning: Files written in `~/work/outputs` and not in one of the four listed subfolders will NOT be preserved*.\n",
    "* `~/work/workspace` or the current directory listed when the JupyterLab is opened. It is the directory where you should save your files. *Hint: these data are versioned ONLY when you have saved the file in JupyterLab AND after you return to the Dashboard from your study. We advise you to go back to the Dashboard often to avoid losing work.*\n",
    "* `~/work/` where you can find the `inputs` and `outputs` directories. Write access to this folder has been disabled. You can only create files and directories in:\n",
    "  * `~/work/workspace`\n",
    "  * `~/work/outputs/outputs_1`\n",
    "  * `~/work/outputs/outputs_2`\n",
    "  * `~/work/outputs/outputs_3`\n",
    "  * `~/work/outputs/outputs_4`\n",
    "\n",
    "**Note:** When writing changes to one of the outputs subfolders, if more than 1 second of inactivity passes a data sync process will start in the background which will upload the content to the corresponding output port. It is advisable to first write the data to a different directory, once all the data is written, move the contents to the output subfolder.\n",
    "\n",
    "#### Voila mode\n",
    "\n",
    "This notebook supports boot as voila mode. To start a notebook as voila, set the `JupyterLab` to `Voila` in the platform. Make sure to create a notebook called `voila.ipynb` in the `~/work/workspace/` directory. Once the two above conditions are met, the notebook will no longer start as JupyterLab but as Voila. To learn more about Voila, see here: https://github.com/voila-dashboards/voila\n",
    "\n",
    "#### Have an issue?\n",
    "\n",
    "Please open an issue on GitLab at [oSparc/services/jupyter-smash](https://git.speag.com/oSparc/services/jupyter-smash)"
   ]
  }
 ],
 "metadata": {
  "kernelspec": {
   "display_name": "",
   "name": ""
  },
  "language_info": {
   "name": ""
  }
 },
 "nbformat": 4,
 "nbformat_minor": 5
}
